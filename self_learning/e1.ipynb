{
 "cells": [
  {
   "cell_type": "code",
   "execution_count": 21,
   "source": [
    "from IPython.core.interactiveshell import InteractiveShell\n",
    "InteractiveShell.ast_node_interactivity = \"all\""
   ],
   "outputs": [],
   "metadata": {}
  },
  {
   "cell_type": "code",
   "execution_count": 1,
   "source": [
    "1 == 1\n",
    "1 != 2"
   ],
   "outputs": [
    {
     "output_type": "execute_result",
     "data": {
      "text/plain": [
       "True"
      ]
     },
     "metadata": {},
     "execution_count": 1
    }
   ],
   "metadata": {}
  },
  {
   "cell_type": "code",
   "execution_count": 23,
   "source": [
    "print ('(True and False) yields:', True and False)\n",
    "print ('(True and True) yields:', True and True)\n",
    "print ('(False and True) yields:', False and True)\n",
    "print ('(False or True) yields:', False or True)\n"
   ],
   "outputs": [
    {
     "output_type": "stream",
     "name": "stdout",
     "text": [
      "(True and False) yields: False\n",
      "(True and True) yields: True\n",
      "(False and True) yields: False\n",
      "(False or True) yields: True\n"
     ]
    }
   ],
   "metadata": {
    "tags": []
   }
  },
  {
   "cell_type": "code",
   "execution_count": 24,
   "source": [
    "import random\n",
    "r = random.randrange(1, 1000)\n",
    "\n",
    "if r % 2 == 0:\n",
    "    print(r, 'is even.')\n",
    "else:\n",
    "    print(r, 'is odd.')"
   ],
   "outputs": [
    {
     "output_type": "stream",
     "name": "stdout",
     "text": [
      "37 is odd.\n"
     ]
    }
   ],
   "metadata": {
    "tags": []
   }
  },
  {
   "cell_type": "code",
   "execution_count": 25,
   "source": [
    "for i in range(10):\n",
    "    if i % 2 != 0:\n",
    "        print (i)"
   ],
   "outputs": [
    {
     "output_type": "stream",
     "name": "stdout",
     "text": [
      "1\n",
      "3\n",
      "5\n",
      "7\n",
      "9\n"
     ]
    }
   ],
   "metadata": {
    "tags": []
   }
  },
  {
   "cell_type": "code",
   "execution_count": 26,
   "source": [
    "for n in range(2, 100):\n",
    "    if n == 2:\n",
    "        print(n)\n",
    "        continue\n",
    "    for i in range(2, n):\n",
    "        if (n % i) == 0:\n",
    "            break\n",
    "    else:\n",
    "        print(n)"
   ],
   "outputs": [
    {
     "output_type": "stream",
     "name": "stdout",
     "text": [
      "2\n",
      "3\n",
      "5\n",
      "7\n",
      "11\n",
      "13\n",
      "17\n",
      "19\n",
      "23\n",
      "29\n",
      "31\n",
      "37\n",
      "41\n",
      "43\n",
      "47\n",
      "53\n",
      "59\n",
      "61\n",
      "67\n",
      "71\n",
      "73\n",
      "79\n",
      "83\n",
      "89\n",
      "97\n"
     ]
    }
   ],
   "metadata": {
    "tags": []
   }
  },
  {
   "cell_type": "code",
   "execution_count": 27,
   "source": [
    "for n in range(2,100):\n",
    "    if n == 2:\n",
    "        print(n)\n",
    "        continue\n",
    "    for i in range(2, int(n ** 0.5)+1):\n",
    "        if (n % i) == 0:\n",
    "            break\n",
    "    else:\n",
    "        print(n)"
   ],
   "outputs": [
    {
     "output_type": "stream",
     "name": "stdout",
     "text": [
      "2\n",
      "3\n",
      "5\n",
      "7\n",
      "11\n",
      "13\n",
      "17\n",
      "19\n",
      "23\n",
      "29\n",
      "31\n",
      "37\n",
      "41\n",
      "43\n",
      "47\n",
      "53\n",
      "59\n",
      "61\n",
      "67\n",
      "71\n",
      "73\n",
      "79\n",
      "83\n",
      "89\n",
      "97\n"
     ]
    }
   ],
   "metadata": {
    "tags": []
   }
  },
  {
   "cell_type": "code",
   "execution_count": 28,
   "source": [
    "a = abs(-3.1415926)\n",
    "a"
   ],
   "outputs": [
    {
     "output_type": "execute_result",
     "data": {
      "text/plain": [
       "3.1415926"
      ]
     },
     "metadata": {},
     "execution_count": 28
    }
   ],
   "metadata": {}
  },
  {
   "cell_type": "code",
   "execution_count": 29,
   "source": [
    "def is_prime(n):\n",
    "    if n < 2:\n",
    "        return False\n",
    "    if n == 2:\n",
    "        return True\n",
    "    for m in range(2, int(n**0.5)+1):\n",
    "        if (n % m) == 0:\n",
    "            return False\n",
    "    else:\n",
    "        return True\n",
    "\n",
    "for i in range(80, 110):\n",
    "    if is_prime(i):\n",
    "        print(i)"
   ],
   "outputs": [
    {
     "output_type": "stream",
     "name": "stdout",
     "text": [
      "83\n",
      "89\n",
      "97\n",
      "101\n",
      "103\n",
      "107\n",
      "109\n"
     ]
    }
   ],
   "metadata": {
    "tags": []
   }
  },
  {
   "cell_type": "code",
   "execution_count": 30,
   "source": [
    "a = 1 + 2 * 3\n",
    "a += 1\n",
    "print(a)"
   ],
   "outputs": [
    {
     "output_type": "stream",
     "name": "stdout",
     "text": [
      "8\n"
     ]
    }
   ],
   "metadata": {
    "tags": []
   }
  },
  {
   "cell_type": "code",
   "execution_count": 31,
   "source": [
    "def f():\n",
    "    pass\n",
    "print(f())\n",
    "print(print(f()))"
   ],
   "outputs": [
    {
     "output_type": "stream",
     "name": "stdout",
     "text": [
      "None\n",
      "None\n",
      "None\n"
     ]
    }
   ],
   "metadata": {
    "tags": []
   }
  },
  {
   "cell_type": "code",
   "execution_count": 32,
   "source": [
    "from IPython.core.interactiveshell import InteractiveShell\n",
    "InteractiveShell.ast_node_interactivity = \"all\"\n",
    "\n",
    "a = -3.141596\n",
    "abs(a)\n",
    "int(abs(a))\n",
    "float(int(abs(a)))"
   ],
   "outputs": [
    {
     "output_type": "execute_result",
     "data": {
      "text/plain": [
       "3.141596"
      ]
     },
     "metadata": {},
     "execution_count": 32
    },
    {
     "output_type": "execute_result",
     "data": {
      "text/plain": [
       "3"
      ]
     },
     "metadata": {},
     "execution_count": 32
    },
    {
     "output_type": "execute_result",
     "data": {
      "text/plain": [
       "3.0"
      ]
     },
     "metadata": {},
     "execution_count": 32
    }
   ],
   "metadata": {}
  },
  {
   "cell_type": "code",
   "execution_count": 33,
   "source": [
    "from IPython.core.interactiveshell importInteractiveShell\n",
    "InteractiveShell.ast_node_interactivity = \"all\"\n",
    "\n",
    "type(3)\n",
    "type(3.0)\n",
    "type('3.14')\n",
    "type(True)\n",
    "type(range(10))\n",
    "type([1,2,3])\n",
    "type((1,2,3))\n",
    "type({1,2,3})\n",
    "type({'a':1, 'b':2, 'c':3})"
   ],
   "outputs": [
    {
     "output_type": "error",
     "ename": "SyntaxError",
     "evalue": "invalid syntax (1380862909.py, line 1)",
     "traceback": [
      "\u001b[0;36m  File \u001b[0;32m\"/var/folders/hm/hbw_1wk11gq238fkgbkwtw1c0000gn/T/ipykernel_1642/1380862909.py\"\u001b[0;36m, line \u001b[0;32m1\u001b[0m\n\u001b[0;31m    from IPython.core.interactiveshell importInteractiveShell\u001b[0m\n\u001b[0m                                       ^\u001b[0m\n\u001b[0;31mSyntaxError\u001b[0m\u001b[0;31m:\u001b[0m invalid syntax\n"
     ]
    }
   ],
   "metadata": {}
  },
  {
   "cell_type": "code",
   "execution_count": null,
   "source": [
    "'Simple is better than complex.' .upper()"
   ],
   "outputs": [],
   "metadata": {}
  },
  {
   "cell_type": "code",
   "execution_count": null,
   "source": [
    "s = \"simple is better than complex. Complex is better than complicated.\"\n",
    "s.lower().find('mpl')\n",
    "s.lower().find('mpl', 10)\n",
    "s.lower().find('mpl', 10, 20)\n",
    "\n",
    "print('Example of str.rfind():')\n",
    "s.lower().index('mpl')"
   ],
   "outputs": [],
   "metadata": {}
  },
  {
   "cell_type": "code",
   "execution_count": null,
   "source": [
    "s=''\n",
    "t=['P','y','t','h','o','n']\n",
    "s.join(t)"
   ],
   "outputs": [],
   "metadata": {}
  },
  {
   "cell_type": "code",
   "execution_count": null,
   "source": [
    "s = 'Sparse is better than dense!'\n",
    "s.title().center(110)\n",
    "s.title().center(110,'=')\n",
    "s.title().center(50)"
   ],
   "outputs": [],
   "metadata": {}
  },
  {
   "cell_type": "code",
   "execution_count": null,
   "source": [
    "def is_leap(year):\n",
    "    leap = False\n",
    "    if year % 4 == 0:\n",
    "        leap = True\n",
    "        if year % 100 == 0 and year % 400 != 0:\n",
    "            leap = False\n",
    "    return leap\n",
    "\n",
    "is_leap(2020)"
   ],
   "outputs": [],
   "metadata": {}
  },
  {
   "cell_type": "code",
   "execution_count": null,
   "source": [
    "def fib_between(start, end):\n",
    "    a, b = 0, 1\n",
    "    while a < end:\n",
    "        if a >= start:\n",
    "            print(a, end='  ')\n",
    "        a, b = b, a + b\n",
    "fib_between(100, 10000)\n",
    "    "
   ],
   "outputs": [],
   "metadata": {}
  },
  {
   "cell_type": "code",
   "execution_count": null,
   "source": [
    "def fib_between(start, end):\n",
    "    r = []\n",
    "    a, b = 0, 1\n",
    "    while a < end:\n",
    "        if a >= start:\n",
    "            r.append(a)\n",
    "        a, b = b, a + b\n",
    "    return r\n",
    "fib_between(100, 10000)"
   ],
   "outputs": [],
   "metadata": {}
  },
  {
   "cell_type": "code",
   "execution_count": null,
   "source": [
    "def increase_one(n):\n",
    "    n += 1\n",
    "    return n\n",
    "\n",
    "n = 1\n",
    "print(increase_one(n))"
   ],
   "outputs": [],
   "metadata": {}
  },
  {
   "cell_type": "code",
   "execution_count": null,
   "source": [
    "def be_careful (a, b):\n",
    "    a = 2\n",
    "    b[0] = 'What?!'\n",
    "a = 1\n",
    "b = [1, 2, 3]\n",
    "be_careful(a, b)\n",
    "print(a, b)"
   ],
   "outputs": [],
   "metadata": {}
  },
  {
   "cell_type": "code",
   "execution_count": null,
   "source": [
    "def be_careful (a, b):\n",
    "    a = 2\n",
    "    b_copy = b.copy()\n",
    "    b_copy[0] = 'What?!'\n",
    "\n",
    "a = 1\n",
    "b = [1,2,3]\n",
    "be_careful(a, b)\n",
    "a,b"
   ],
   "outputs": [],
   "metadata": {}
  },
  {
   "cell_type": "code",
   "execution_count": null,
   "source": [
    "def say_hi (*names):\n",
    "    for name in names:\n",
    "        print(f'Hi, {name}!')\n",
    "say_hi()\n",
    "say_hi('Ann')\n",
    "say_hi('Angela', 'Mike', 'May')"
   ],
   "outputs": [],
   "metadata": {}
  },
  {
   "cell_type": "code",
   "execution_count": null,
   "source": [
    "def say_hi (*names):\n",
    "    for name in names: \n",
    "        print(f'Hi, {name}!')\n",
    "\n",
    "names = ('Mike','Angel','May')\n",
    "\n",
    "say_hi(*names)"
   ],
   "outputs": [],
   "metadata": {}
  },
  {
   "cell_type": "code",
   "execution_count": null,
   "source": [
    "def say_hi(*names):\n",
    "    for name in names:\n",
    "        print(f'Hi, {name}!')\n",
    "    \n",
    "a_string = 'Python'\n",
    "say_hi(*a_string)\n",
    "\n",
    "a_range = range(3)\n",
    "say_hi(*a_range)\n",
    "\n",
    "a_list = list(range(10, 0, -1))\n",
    "say_hi(*a_list)\n",
    "\n",
    "a_dictionary = {'Ann':2321, 'Mike':8712, 'Joe':7610}\n",
    "say_hi(*a_dictionary)"
   ],
   "outputs": [],
   "metadata": {}
  },
  {
   "cell_type": "code",
   "execution_count": null,
   "source": [
    "def say_hi(greeting, *names):\n",
    "    for name in names:\n",
    "        print(f'{greeting}, {name.capitalize()}!')\n",
    "\n",
    "say_hi('Hello', 'mike','zoe','May')"
   ],
   "outputs": [],
   "metadata": {}
  },
  {
   "cell_type": "code",
   "execution_count": null,
   "source": [
    "def say_hi(**names_greetings):\n",
    "    for name, greeting in names_greetings.items():\n",
    "        print(f'{greeting},{name}!')\n",
    "a_dictionary = {'mike': 'Hello', 'ann': 'Oh, my darling','john':'Hi'}\n",
    "say_hi(**a_dictionary)\n",
    "say_hi(**{'mike':'Hello', 'ann':'Oh, my darling', 'john':'Hi'})"
   ],
   "outputs": [],
   "metadata": {}
  },
  {
   "cell_type": "code",
   "execution_count": null,
   "source": [
    "def say_hi(greeting, *names, capitalized = False):\n",
    "    for name in names:\n",
    "        if capitalized:\n",
    "            name = name.capitalize()\n",
    "        print(f'{greeting},{name}!')\n",
    "\n",
    "say_hi ('Hi','mike','john','zoe')\n",
    "say_hi('Welcome', 'mike', 'john','zoe', capitalized = True)"
   ],
   "outputs": [],
   "metadata": {}
  },
  {
   "cell_type": "code",
   "execution_count": null,
   "source": [
    "def say_hi(greeting='Hello', *names, capitalized=False):\n",
    "    for name in names:\n",
    "        if capitalized:\n",
    "            name = name.capitalize()\n",
    "        print(f'{greeting}, {name}!')\n",
    "\n",
    "say_hi('Mike', 'John', 'Zoe')"
   ],
   "outputs": [],
   "metadata": {}
  },
  {
   "cell_type": "code",
   "execution_count": null,
   "source": [
    "def make_incrementor(n):\n",
    "    return lambda x: x+n\n",
    "f = make_incrementor(42)\n",
    "f(0)\n",
    "f(2)"
   ],
   "outputs": [],
   "metadata": {}
  },
  {
   "cell_type": "code",
   "execution_count": null,
   "source": [
    "def double_it(n):\n",
    "    return n * 2\n",
    "a_list = [1,2,3,4,5,6]\n",
    "\n",
    "c_list = list(map(lambda x: x * 2, a_list))\n",
    "c_list"
   ],
   "outputs": [],
   "metadata": {}
  },
  {
   "cell_type": "code",
   "execution_count": null,
   "source": [
    "def list_length(x):\n",
    "    n = []\n",
    "    i = 0\n",
    "    while i+3 < x:\n",
    "        n.append(i)\n",
    "        i = i+1\n",
    "    print(n)\n",
    "list_length(50)"
   ],
   "outputs": [],
   "metadata": {
    "tags": []
   }
  },
  {
   "cell_type": "code",
   "execution_count": null,
   "source": [
    "add = lambda x, y: x+y\n",
    "add(9,5)"
   ],
   "outputs": [],
   "metadata": {}
  },
  {
   "cell_type": "code",
   "execution_count": null,
   "source": [
    "phonebook = [\n",
    "    {\n",
    "        'name': 'john',\n",
    "        'phone': '9876'\n",
    "    },\n",
    "    {\n",
    "        'name':'mike',\n",
    "        'phone':'5603'\n",
    "    },\n",
    "]\n",
    "\n",
    "phonebook\n",
    "list(map(lambda x: x['name'], phonebook))\n",
    "list(map(lambda x: x['phone'], phonebook))"
   ],
   "outputs": [],
   "metadata": {}
  },
  {
   "cell_type": "code",
   "execution_count": null,
   "source": [
    "list(map(lambda x : x*2, [1, 2, 3, 4]))"
   ],
   "outputs": [],
   "metadata": {}
  },
  {
   "cell_type": "code",
   "execution_count": null,
   "source": [
    "a_list = [1,2,3,4]\n",
    "b_list = [3,4,5,6]\n",
    "\n",
    "\n",
    "list(map(lambda x, y: x + y, a_list, b_list))"
   ],
   "outputs": [],
   "metadata": {}
  },
  {
   "cell_type": "code",
   "execution_count": null,
   "source": [
    "def cheeseshop(kind, *arguments, **keywords):\n",
    "    print(\"-- Do you have any\", kind, \"?\")\n",
    "    print(\"--I'm sorry, we're all out of\", kind)\n",
    "    for arg in arguments:\n",
    "        print(arg)\n",
    "    print(\"-\" *10)\n",
    "    for kw in keywords:\n",
    "        print(kw, \":\", keywords[kw])\n",
    "\n",
    "cheeseshop(\"cheddar\", \"It's very runny, sir.\",\n",
    "            Shopkeeper = \"Michael Palin\",\n",
    "            Client = \"John Cleese\",\n",
    "            Sketch = \"Cheese Shop Sketch\")"
   ],
   "outputs": [],
   "metadata": {}
  },
  {
   "cell_type": "code",
   "execution_count": null,
   "source": [
    "pairs = [(1, 'one'), (2, 'two'), (3, \"three\"),(4,\"four\")]\n",
    "    pairs.sort(key=lambda pair: pair[1])\n",
    "pairs"
   ],
   "outputs": [],
   "metadata": {}
  },
  {
   "cell_type": "code",
   "execution_count": null,
   "source": [
    "from collections import deque\n",
    "queue = deque ([\"Eric\",\"John\",\"Michael\"])\n",
    "queue.append(\"Terry\")\n",
    "queue.popleft()\n",
    "queue.popleft()\n",
    "queue"
   ],
   "outputs": [],
   "metadata": {}
  },
  {
   "cell_type": "code",
   "execution_count": null,
   "source": [
    "import numpy as np\n",
    "a = np.array([4,6])\n",
    "b = np.array([3,8])\n",
    "np.multiply(a,b)\n"
   ],
   "outputs": [],
   "metadata": {}
  },
  {
   "cell_type": "code",
   "execution_count": null,
   "source": [
    "def calcDet(matrix: list):\n",
    "    #print(len(matrix))\n",
    "    #print(len(matrix[0]), len(matrix[1]), len(matrix[2]))\n",
    "    M = matrix\n",
    "    n = M[0][0]*(M[1][1]*M[2][2]-M[1][2]*M[2][1]) - M[0][1]*(M[1][0]*M[2][2]-M[1][2]*M[2][0])+M[0][2]*(M[1][0]*M[2][1]-M[1][1]*M[2][0])\n",
    "    print(n)\n",
    "\n",
    "# n = (a[0]*(b[1]*c[2] - b[2]*c[1]) - a[1]*(b[0]*c[2]-b[2]*c[0]) + a[2]*(b[0]*c[1]-b[1]*c[0]))\n",
    "\n",
    " \n"
   ],
   "outputs": [],
   "metadata": {}
  },
  {
   "cell_type": "code",
   "execution_count": null,
   "source": [
    "matrix = [[6,1,1],[4,-2,5],[2,8,7]]\n",
    "calcDet(matrix)\n",
    "\n"
   ],
   "outputs": [],
   "metadata": {}
  },
  {
   "cell_type": "code",
   "execution_count": null,
   "source": [
    "def question(year,month):\n",
    "    familyMembers = [\n",
    "    {'name': 'Xi', 'year': 1990, 'month': 8}, \n",
    "    {'name': 'zhixiang', 'year': 1985, 'month': 5},\n",
    "    {'name': 'zhite', 'year': 1986,'month': 12},\n",
    "    {'name': 'yumei', 'year': 1954, 'month': 11}\n",
    "    ] \n",
    "    for member in familyMembers:\n",
    "        if member['year'] and member['month'] < year, month:\n",
    "            print(member)\n",
    "\n",
    "question(2000,8)\n",
    "\n",
    "print(familyMembers)"
   ],
   "outputs": [],
   "metadata": {}
  },
  {
   "cell_type": "code",
   "execution_count": null,
   "source": [
    "def getColor(inputNumber):\n",
    "    colors = ['red', 'orange', 'yellow', 'pink', 'green','blue','purple']\n",
    "     inputNumber % 7\n",
    "    \n",
    "    print(colors[x])\n",
    "\n",
    "getColor(715)"
   ],
   "outputs": [],
   "metadata": {}
  },
  {
   "cell_type": "code",
   "execution_count": null,
   "source": [
    "n = (a*(e*i - f*h) - b*(d*i-f*g) + c*(d*h-e*g))"
   ],
   "outputs": [],
   "metadata": {}
  },
  {
   "cell_type": "code",
   "execution_count": null,
   "source": [
    "cubes = [1,8,27,65,126]\n",
    "4**3\n",
    "cubes[3]=64\n",
    "cubes\n",
    "cubes.append(216)\n",
    "cubes\n",
    "cubes.append(7**3)\n",
    "cubes"
   ],
   "outputs": [],
   "metadata": {}
  },
  {
   "cell_type": "code",
   "execution_count": null,
   "source": [
    "4*3.75"
   ],
   "outputs": [],
   "metadata": {}
  },
  {
   "cell_type": "code",
   "execution_count": null,
   "source": [
    "basket = {'apple', 'orange', 'apple', 'pear', 'orange', 'banana'}\n",
    "\n",
    "'kiwi' in basket\n",
    "\n"
   ],
   "outputs": [],
   "metadata": {}
  },
  {
   "cell_type": "code",
   "execution_count": null,
   "source": [
    "a = set('abracadabra')\n",
    "b = set('alacazam')\n",
    "a = {x for x in 'abracadabra' if x not in 'abc'}\n",
    "a"
   ],
   "outputs": [],
   "metadata": {}
  },
  {
   "cell_type": "code",
   "execution_count": null,
   "source": [
    "a =1000\n",
    "b = 150\n",
    "if a < b:\n",
    "    print('a is not greater than b')\n",
    "else:\n",
    "    print('a is greater than b')"
   ],
   "outputs": [],
   "metadata": {}
  },
  {
   "cell_type": "code",
   "execution_count": null,
   "source": [
    "a = 33\n",
    "b = 330\n",
    "print (\"A\") if a > b else print(\"B\")"
   ],
   "outputs": [],
   "metadata": {}
  },
  {
   "cell_type": "code",
   "execution_count": null,
   "source": [
    "for x in \"banana\":\n",
    "    print(x)"
   ],
   "outputs": [],
   "metadata": {}
  },
  {
   "cell_type": "code",
   "execution_count": null,
   "source": [
    "results = {\n",
    "    'classA': [88, 92, 33, 58, 92],\n",
    "    'classB': [81, 42, 33, 78, 92],\n",
    "    'classC': [18, 42, 39, 28, 92],\n",
    "    'classD': [1, 42, 39, 28, 92]\n",
    "}\n",
    "\n",
    "result_list=[]\n",
    "\n",
    "for x in results:\n",
    "    for result in results[x]:\n",
    "        result_list.append(result)\n",
    "\n",
    "sum(result_list)/len(result_list)\n",
    "\n"
   ],
   "outputs": [],
   "metadata": {}
  },
  {
   "cell_type": "code",
   "execution_count": null,
   "source": [
    "Steps\n",
    "remove position [0], leave int to calculate\n",
    "sum(range(total number))\n",
    "\n"
   ],
   "outputs": [],
   "metadata": {}
  },
  {
   "cell_type": "code",
   "execution_count": null,
   "source": [
    "matrix = [\n",
    "    [1,2,3,4],\n",
    "    [5,6,7,8],\n",
    "    [9,10,11,12],\n",
    "    [13,14,15,16],\n",
    "]\n",
    "for x in matrix:\n",
    "    for y in x:\n",
    "        print(y)\n",
    "sorted(matrix)\n"
   ],
   "outputs": [],
   "metadata": {}
  },
  {
   "cell_type": "code",
   "execution_count": null,
   "source": [
    "n = [3,1,4,1,5,9,2,6,5,3,5,8,9,7,9,3]\n",
    "a = sorted(n)\n",
    "a\n",
    "b = a[6]+a[7]\n",
    "b/2"
   ],
   "outputs": [],
   "metadata": {}
  },
  {
   "cell_type": "code",
   "execution_count": null,
   "source": [
    "student_tuples = [\n",
    "    ('john', 'A',10),\n",
    "    ('Jason', 'B',100),\n",
    "    ('Jean', 'C',9),\n",
    "]\n",
    "sorted(student_tuples, key=lambda student: student[2])"
   ],
   "outputs": [
    {
     "output_type": "execute_result",
     "data": {
      "text/plain": [
       "[('Jean', 'C', 9), ('john', 'A', 10), ('Jason', 'B', 100)]"
      ]
     },
     "metadata": {},
     "execution_count": 5
    }
   ],
   "metadata": {}
  },
  {
   "cell_type": "code",
   "execution_count": null,
   "source": [
    "import math\n",
    "n = [9, 2, 5, 4, 12, 7, 8, 11, 9, 3, 7, 4, 12, 5, 4, 10, 9, 6, 9, 4]\n",
    "mean = sum(n)/len(n)\n",
    "\n",
    "s = ((n[0]-mean)**2+(n[1]-mean)**2+(n[2]-mean)**2+(n[3]-mean)**2+(n[4]-mean)**2+(n[5]-mean)**2+(n[6]-mean)**2+(n[7]-mean)**2+(n[8]-mean)**2+(n[9]-mean)**2+(n[10]-mean)**2+(n[11]-mean)**2+(n[12]-mean)**2+(n[13]-mean)**2+(n[14]-mean)**2+(n[15]-mean)**2+(n[16]-mean)**2+(n[17]-mean)**2+(n[18]-mean)**2+(n[19]-mean)**2)/len(n)\n",
    "\n",
    "print(mean)\n",
    "print(s)\n",
    "s ** 0.5"
   ],
   "outputs": [
    {
     "output_type": "stream",
     "name": "stdout",
     "text": [
      "7.0\n",
      "8.9\n"
     ]
    },
    {
     "output_type": "execute_result",
     "data": {
      "text/plain": [
       "2.9832867780352594"
      ]
     },
     "metadata": {},
     "execution_count": 4
    }
   ],
   "metadata": {}
  },
  {
   "cell_type": "code",
   "execution_count": null,
   "source": [
    "n = [1,2,4,6,88,21,35]\n",
    "n.sort()"
   ],
   "outputs": [],
   "metadata": {}
  },
  {
   "cell_type": "code",
   "execution_count": null,
   "source": [
    "stuscore = input (\"Please input student's score:\")\n",
    "score = int(stuscore)\n",
    "if score >100:\n",
    "    print(\"\\n You are way above the top students!\")\n",
    "if score ==100:\n",
    "    print(\"\\n You are the top\")\n",
    "if score > 90:\n",
    "    print(\"\\n hmmm.. not the top anymore, but still above average\")\n",
    "if score > 20:\n",
    "    print(\"\\n well try next time\")"
   ],
   "outputs": [],
   "metadata": {}
  },
  {
   "cell_type": "code",
   "execution_count": null,
   "source": [
    "import random\n",
    "gameplayer = int(input(\"1.paper, 2. sissors, 3.rock:\"))\n",
    "gamecomputer = ramdom.randint(1,3)\n",
    "if ((gameplayer == 1 and gamecomputer == 3)\n",
    "    or (gameplayer == 2 and gamecomputer == 1) \n",
    "    or gameplayer == 3 and gamecomputer == 2):\n",
    "    print(\"\\n you won!\")\n",
    "elif gameplayer == gamecomputer:\n",
    "    print(\"\\n it's a draw!\")\n",
    "else:\n",
    "    print(\"\\n human beat by computer!\")\n"
   ],
   "outputs": [
    {
     "output_type": "error",
     "ename": "NameError",
     "evalue": "name 'ramdom' is not defined",
     "traceback": [
      "\u001b[0;31m---------------------------------------------------------------------------\u001b[0m",
      "\u001b[0;31mNameError\u001b[0m                                 Traceback (most recent call last)",
      "\u001b[0;32m<ipython-input-16-80ebc48c34c8>\u001b[0m in \u001b[0;36m<module>\u001b[0;34m\u001b[0m\n\u001b[1;32m      1\u001b[0m \u001b[0;32mimport\u001b[0m \u001b[0mrandom\u001b[0m\u001b[0;34m\u001b[0m\u001b[0;34m\u001b[0m\u001b[0m\n\u001b[1;32m      2\u001b[0m \u001b[0mgameplayer\u001b[0m \u001b[0;34m=\u001b[0m \u001b[0mint\u001b[0m\u001b[0;34m(\u001b[0m\u001b[0minput\u001b[0m\u001b[0;34m(\u001b[0m\u001b[0;34m\"1.paper, 2. sissors, 3.rock:\"\u001b[0m\u001b[0;34m)\u001b[0m\u001b[0;34m)\u001b[0m\u001b[0;34m\u001b[0m\u001b[0;34m\u001b[0m\u001b[0m\n\u001b[0;32m----> 3\u001b[0;31m \u001b[0mgamecomputer\u001b[0m \u001b[0;34m=\u001b[0m \u001b[0mramdom\u001b[0m\u001b[0;34m.\u001b[0m\u001b[0mrandint\u001b[0m\u001b[0;34m(\u001b[0m\u001b[0;36m1\u001b[0m\u001b[0;34m,\u001b[0m\u001b[0;36m3\u001b[0m\u001b[0;34m)\u001b[0m\u001b[0;34m\u001b[0m\u001b[0;34m\u001b[0m\u001b[0m\n\u001b[0m\u001b[1;32m      4\u001b[0m if ((gameplayer == 1 and gamecomputer == 3)\n\u001b[1;32m      5\u001b[0m     \u001b[0;32mor\u001b[0m \u001b[0;34m(\u001b[0m\u001b[0mgameplayer\u001b[0m \u001b[0;34m==\u001b[0m \u001b[0;36m2\u001b[0m \u001b[0;32mand\u001b[0m \u001b[0mgamecomputer\u001b[0m \u001b[0;34m==\u001b[0m \u001b[0;36m1\u001b[0m\u001b[0;34m)\u001b[0m\u001b[0;34m\u001b[0m\u001b[0;34m\u001b[0m\u001b[0m\n",
      "\u001b[0;31mNameError\u001b[0m: name 'ramdom' is not defined"
     ]
    }
   ],
   "metadata": {}
  },
  {
   "cell_type": "code",
   "execution_count": null,
   "source": [
    "myday = input (\"一周的第几天:\")\n",
    "day = int(myday)\n",
    "if day == 1:\n",
    "    print(\"\\n 周一，努力吧\")\n",
    "elif day >=2 and day <= 5:\n",
    "    print(\"\\n 努力学习中！\")\n",
    "elif day == 6 or day == 7:\n",
    "    print(\"\\n 周末干点啥呢\")\n",
    "else :\n",
    "    print(\"\\n 一周只有 7 天呀\")"
   ],
   "outputs": [
    {
     "output_type": "stream",
     "name": "stdout",
     "text": [
      "\n",
      " 努力学习中！\n"
     ]
    }
   ],
   "metadata": {}
  },
  {
   "cell_type": "code",
   "execution_count": null,
   "source": [
    "year = input(\"输入一个年份：\")\n",
    "myyear = int(year)\n",
    "if (myyear % 400 == 0) or (myyear % 4 == 0 and myyear % 100 != 0):\n",
    "    print(\"\\n 输入年份：\" ,myyear, \" ，是闰年。\")\n",
    "else:\n",
    "    print(\"\\n 输入年份：\",myyear,\" 是平年。\")"
   ],
   "outputs": [
    {
     "output_type": "stream",
     "name": "stdout",
     "text": [
      "\n",
      " 输入年份： 2020  ，是闰年。\n"
     ]
    }
   ],
   "metadata": {}
  },
  {
   "cell_type": "code",
   "execution_count": null,
   "source": [
    "# 判断一个数是否是 3 或 7 的倍数\n",
    "mynum = input(\"输入一个数字：\")\n",
    "num = int(mynum)\n",
    "if num % 3 == 0:\n",
    "    if num % 7 == 0:\n",
    "        print(\"\\n 输入的数字可以整除以 3 和 7 \")\n",
    "    else: \n",
    "        print(\"\\n 输入的数字可以整除以 3，但不能整除以 7\")\n",
    "else:\n",
    "    if num % 7 == 0:\n",
    "        print(\"\\n 输入的数字可以整除 7\")\n",
    "    else:\n",
    "        print(\"\\n 输入的数字不可以整除 3 和 7\")"
   ],
   "outputs": [
    {
     "output_type": "stream",
     "name": "stdout",
     "text": [
      "\n",
      " 输入的数字可以整除以 3 和 7 \n"
     ]
    }
   ],
   "metadata": {}
  },
  {
   "cell_type": "code",
   "execution_count": null,
   "source": [
    "mysum = 0\n",
    "num = 1\n",
    "while num <= 20 :\n",
    "    mysum = mysum + num\n",
    "    num += 3\n",
    "print(mysum)\n"
   ],
   "outputs": [
    {
     "output_type": "stream",
     "name": "stdout",
     "text": [
      "70\n"
     ]
    }
   ],
   "metadata": {}
  },
  {
   "cell_type": "code",
   "execution_count": null,
   "source": [
    "i = 1\n",
    "while i <=100:\n",
    "    print(i, \"\\t\", end=\"\")\n",
    "    i += 2"
   ],
   "outputs": [
    {
     "output_type": "stream",
     "name": "stdout",
     "text": [
      "1 \t3 \t5 \t7 \t9 \t11 \t13 \t15 \t17 \t19 \t21 \t23 \t25 \t27 \t29 \t31 \t33 \t35 \t37 \t39 \t41 \t43 \t45 \t47 \t49 \t51 \t53 \t55 \t57 \t59 \t61 \t63 \t65 \t67 \t69 \t71 \t73 \t75 \t77 \t79 \t81 \t83 \t85 \t87 \t89 \t91 \t93 \t95 \t97 \t99 \t"
     ]
    }
   ],
   "metadata": {
    "tags": []
   }
  },
  {
   "cell_type": "code",
   "execution_count": null,
   "source": [
    "import random\n",
    "mymin = 200\n",
    "i = 1\n",
    "while i <= 20:\n",
    "    r = random.randint(50,150)\n",
    "    i += 1\n",
    "    print(\"第 %d 随机数是： %s\" %(i-1,r))\n",
    "    if r < mymin:\n",
    "        mymin = r\n",
    "print(\"\\n\\n 最小的是：\",mymin)"
   ],
   "outputs": [
    {
     "output_type": "stream",
     "name": "stdout",
     "text": [
      "第 1 随机数是： 123\n",
      "第 2 随机数是： 118\n",
      "第 3 随机数是： 93\n",
      "第 4 随机数是： 139\n",
      "第 5 随机数是： 131\n",
      "第 6 随机数是： 82\n",
      "第 7 随机数是： 127\n",
      "第 8 随机数是： 60\n",
      "第 9 随机数是： 54\n",
      "第 10 随机数是： 88\n",
      "第 11 随机数是： 67\n",
      "第 12 随机数是： 109\n",
      "第 13 随机数是： 120\n",
      "第 14 随机数是： 109\n",
      "第 15 随机数是： 55\n",
      "第 16 随机数是： 58\n",
      "第 17 随机数是： 142\n",
      "第 18 随机数是： 136\n",
      "第 19 随机数是： 78\n",
      "第 20 随机数是： 83\n",
      "\n",
      "\n",
      " 最小的是： 54\n"
     ]
    }
   ],
   "metadata": {}
  },
  {
   "cell_type": "code",
   "execution_count": null,
   "source": [
    "# 求 s = a+aa+aaa+aaa...aaa\n",
    "s = 0\n",
    "a = int(input(\"请输入 a 的值\"))\n",
    "n = int(input(\"请输入 n 的值\"))\n",
    "t = a \n",
    "while n > 0:\n",
    "    s = s+t\n",
    "    a = a*10\n",
    "    t = t+a\n",
    "    n = n-1\n",
    "print(\"\\n\\n a+aa+aaa+aaaa...aa=\", s)"
   ],
   "outputs": [
    {
     "output_type": "stream",
     "name": "stdout",
     "text": [
      "\n",
      "\n",
      " a+aa+aaa+aaaa...aa= 123456790123456790100\n"
     ]
    }
   ],
   "metadata": {}
  },
  {
   "cell_type": "code",
   "execution_count": null,
   "source": [
    "mystr = input(\"输入一串字符串：\")\n",
    "myletters = 0\n",
    "myspaces = 0\n",
    "mynums = 0\n",
    "others = 0\n",
    "i =0\n",
    "while i < len(mystr):\n",
    "    mychar = mystr[i]\n",
    "    i = i + 1\n",
    "    if mychar.isalpha():\n",
    "        myletters = myletters+1\n",
    "    elif mychar.isspace():\n",
    "        myspaces = myspaces+1\n",
    "    elif mychar.isdigit():\n",
    "        mynums = mynums + 1\n",
    "    else :\n",
    "        others = others +1\n",
    "print(\"\\n 字母的字数为：%d\" % myletters )\n",
    "print(\" 空格的个数为：%d\" % myspaces)\n",
    "print(\" 数字的个数为：%d\" % mynums)\n",
    "print(\"其他：%d\" % others)\n"
   ],
   "outputs": [
    {
     "output_type": "stream",
     "name": "stdout",
     "text": [
      "\n",
      " 字母的字数为：16\n",
      " 空格的个数为：3\n",
      " 数字的个数为：0\n",
      "其他：2\n"
     ]
    }
   ],
   "metadata": {}
  },
  {
   "cell_type": "code",
   "execution_count": null,
   "source": [
    "print(\"display odd number in 100\")\n",
    "for i in range(1,101):\n",
    "    if i % 2 == 1:\n",
    "        print(i, \"\\t\", end = \"\")\n"
   ],
   "outputs": [
    {
     "output_type": "stream",
     "name": "stdout",
     "text": [
      "display odd number in 100\n",
      "1 \t3 \t5 \t7 \t9 \t11 \t13 \t15 \t17 \t19 \t21 \t23 \t25 \t27 \t29 \t31 \t33 \t35 \t37 \t39 \t41 \t43 \t45 \t47 \t49 \t51 \t53 \t55 \t57 \t59 \t61 \t63 \t65 \t67 \t69 \t71 \t73 \t75 \t77 \t79 \t81 \t83 \t85 \t87 \t89 \t91 \t93 \t95 \t97 \t99 \t"
     ]
    }
   ],
   "metadata": {}
  },
  {
   "cell_type": "code",
   "execution_count": null,
   "source": [
    "Sn = 100.0\n",
    "Hn = Sn / 2 \n",
    "print(\"第一次反弹的高度是：\", Hn,\"米\")\n",
    "for n in range (2,11):\n",
    "    Sn += 2 * Hn\n",
    "    Hn /= 2\n",
    "    print(\"第\",n,\"次反弹的高度是：\", Hn, \"米\")\n",
    "print(\"\\n\\n 第 10 次落地式共经过 %f 米\" % Sn)\n",
    "\n"
   ],
   "outputs": [
    {
     "output_type": "stream",
     "name": "stdout",
     "text": [
      "第一次反弹的高度是： 50.0 米\n",
      "第 2 次反弹的高度是： 25.0 米\n",
      "第 3 次反弹的高度是： 12.5 米\n",
      "第 4 次反弹的高度是： 6.25 米\n",
      "第 5 次反弹的高度是： 3.125 米\n",
      "第 6 次反弹的高度是： 1.5625 米\n",
      "第 7 次反弹的高度是： 0.78125 米\n",
      "第 8 次反弹的高度是： 0.390625 米\n",
      "第 9 次反弹的高度是： 0.1953125 米\n",
      "第 10 次反弹的高度是： 0.09765625 米\n",
      "\n",
      "\n",
      " 第 10 次落地式共经过 299.609375 米\n"
     ]
    }
   ],
   "metadata": {}
  },
  {
   "cell_type": "code",
   "execution_count": null,
   "source": [
    "print(\"求最大公约数\")\n",
    "num1 = int(input(\"input number 1:\"))\n",
    "num2 = int(input(\"input number 2:\"))\n",
    "if num2 > num1:\n",
    "    temp = num2\n",
    "    num2 = mum1\n",
    "    num1 = temp\n",
    "for i in range(1, num2+1):\n",
    "    if num1 % i == 0 and num2 % i == 0:\n",
    "        mymax = i\n",
    "print(\"\\n\\n 最大公约数是：\", mymax)"
   ],
   "outputs": [
    {
     "output_type": "stream",
     "name": "stdout",
     "text": [
      "求最大公约数\n",
      "\n",
      "\n",
      " 最大公约数是： 1\n"
     ]
    }
   ],
   "metadata": {}
  },
  {
   "cell_type": "code",
   "execution_count": null,
   "source": [
    "for i in range(1,10):\n",
    "    print()\n",
    "    for j in range(1, i+1):\n",
    "        print(\"%d*%d=%d\" % (i,j,i*j), end='')"
   ],
   "outputs": [
    {
     "output_type": "stream",
     "name": "stdout",
     "text": [
      "\n",
      "1*1=1\n",
      "2*1=22*2=4\n",
      "3*1=33*2=63*3=9\n",
      "4*1=44*2=84*3=124*4=16\n",
      "5*1=55*2=105*3=155*4=205*5=25\n",
      "6*1=66*2=126*3=186*4=246*5=306*6=36\n",
      "7*1=77*2=147*3=217*4=287*5=357*6=427*7=49\n",
      "8*1=88*2=168*3=248*4=328*5=408*6=488*7=568*8=64\n",
      "9*1=99*2=189*3=279*4=369*5=459*6=549*7=639*8=729*9=81"
     ]
    }
   ],
   "metadata": {}
  },
  {
   "cell_type": "code",
   "execution_count": null,
   "source": [
    "print(\"display 菱形\")\n",
    "for i in range(4):\n",
    "    for j in range(2-i+1):\n",
    "        print(\" \", end=\"\")\n",
    "    for k in range(2*i+1):\n",
    "        print('*', end=\"\")\n",
    "    print()\n",
    "for i in range (3):\n",
    "    for j in range (i+1):\n",
    "        print(\" \", end=\"\")\n",
    "    for k in range (4-2*i+1):\n",
    "        print('*', end=\"\")\n",
    "    print()"
   ],
   "outputs": [
    {
     "output_type": "stream",
     "name": "stdout",
     "text": [
      "display 菱形\n",
      "   *\n",
      "  ***\n",
      " *****\n",
      "*******\n",
      " *****\n",
      "  ***\n",
      "   *\n"
     ]
    }
   ],
   "metadata": {}
  },
  {
   "cell_type": "code",
   "execution_count": null,
   "source": [
    "print(\"display 2500以内的所有完数：\\n\")\n",
    "for j in range(2,501):\n",
    "    k=[]\n",
    "    n=-1\n",
    "    s =j\n",
    "    for i in range(1,j):\n",
    "        if j%i == 0:\n",
    "            n = n+1\n",
    "            s = s-i\n",
    "            k.append(i)\n",
    "    if s == 0:\n",
    "        print(\"完数：%d\" %j, \", 其因子如下：\")\n",
    "        for i in range(n+1):\n",
    "            print(str(k[i]))"
   ],
   "outputs": [
    {
     "output_type": "stream",
     "name": "stdout",
     "text": [
      "display 2500以内的所有完数：\n",
      "\n",
      "完数：6 , 其因子如下：\n",
      "1\n",
      "2\n",
      "3\n",
      "完数：28 , 其因子如下：\n",
      "1\n",
      "2\n",
      "4\n",
      "7\n",
      "14\n",
      "完数：496 , 其因子如下：\n",
      "1\n",
      "2\n",
      "4\n",
      "8\n",
      "16\n",
      "31\n",
      "62\n",
      "124\n",
      "248\n"
     ]
    }
   ],
   "metadata": {}
  },
  {
   "cell_type": "code",
   "execution_count": null,
   "source": [
    "for letter in \"python:\":\n",
    "    if letter == 'h':\n",
    "        break\n",
    "    print('current:',letter)\n",
    "print()\n",
    "var = 16\n",
    "while var >0:\n",
    "    print(\"current variable:\", var)\n",
    "    var = var -1\n",
    "    if var == 10:\n",
    "        break\n",
    "print(\"\\n over\")"
   ],
   "outputs": [
    {
     "output_type": "stream",
     "name": "stdout",
     "text": [
      "current: p\n",
      "current: y\n",
      "current: t\n",
      "\n",
      "current variable: 16\n",
      "current variable: 15\n",
      "current variable: 14\n",
      "current variable: 13\n",
      "current variable: 12\n",
      "current variable: 11\n",
      "\n",
      " over\n"
     ]
    }
   ],
   "metadata": {}
  },
  {
   "cell_type": "code",
   "execution_count": null,
   "source": [
    "list1 = [\"C\", \"Python\", \"C++\", \"Java\"]\n",
    "list2 = [11,22,33,44]\n",
    "list3 = [\"li\",\"Mr\", 12]\n",
    "print(\"\\nmy favourite promgramme language is:\", list1[1])\n",
    "for i in list1:\n",
    "    print(i)\n",
    "del list2[2:3]\n",
    "for i in list2:\n",
    "    print(i)\n",
    "\n",
    "len(list3)\n",
    "max(list2)\n",
    "id(list1)\n",
    "list.copy(list2)\n"
   ],
   "outputs": [
    {
     "output_type": "stream",
     "name": "stdout",
     "text": [
      "\n",
      "my favourite promgramme language is: Python\n",
      "C\n",
      "Python\n",
      "C++\n",
      "Java\n",
      "11\n",
      "22\n",
      "44\n"
     ]
    },
    {
     "output_type": "execute_result",
     "data": {
      "text/plain": [
       "3"
      ]
     },
     "metadata": {},
     "execution_count": 51
    },
    {
     "output_type": "execute_result",
     "data": {
      "text/plain": [
       "44"
      ]
     },
     "metadata": {},
     "execution_count": 51
    },
    {
     "output_type": "execute_result",
     "data": {
      "text/plain": [
       "4495797704"
      ]
     },
     "metadata": {},
     "execution_count": 51
    },
    {
     "output_type": "execute_result",
     "data": {
      "text/plain": [
       "[11, 22, 44]"
      ]
     },
     "metadata": {},
     "execution_count": 51
    }
   ],
   "metadata": {}
  },
  {
   "cell_type": "code",
   "execution_count": null,
   "source": [
    "accounts = ((\"zhang\",\"pw123123\"), (\"lin\",\"pw234432\"), (\"yuan\",\"pw343434\"))\n",
    "print(\"no.\\t\\tusername\\tpassword\")\n",
    "for index, value in enumerate(accounts):\n",
    "    print(\"%s\\t\\t%s\\t\\t%s\" %(index,value[0],value[1]))\n",
    "    "
   ],
   "outputs": [
    {
     "output_type": "stream",
     "name": "stdout",
     "text": [
      "no.\t\tusername\tpassword\n",
      "0\t\tzhang\t\tpw123123\n",
      "1\t\tlin\t\tpw234432\n",
      "2\t\tyuan\t\tpw343434\n"
     ]
    }
   ],
   "metadata": {}
  },
  {
   "cell_type": "code",
   "execution_count": null,
   "source": [
    "dict1 = {'name':'Adam','age':'19', 'grade':'year 1', 'mark':'excellent'}\n",
    "print(\"name:\", dict1['name'])\n",
    "print(\"age:\", dict1['age'])\n",
    "print(\"grade:\", dict1['grade'])\n",
    "print(\"mark:\", dict1['mark'])\n",
    "\n",
    "print(\"\\n value is:\", tuple(dict1.values()))\n",
    "print(\"\\n key is:\", list(dict1.keys()))\n",
    "print(\"\\n item is: %s\" % dict1.items())\n",
    "for i, j in dict1.items():\n",
    "    print(i,\":\", j)\n",
    "\n",
    "len(dict1)"
   ],
   "outputs": [
    {
     "output_type": "stream",
     "name": "stdout",
     "text": [
      "name: Adam\n",
      "age: 19\n",
      "grade: year 1\n",
      "mark: excellent\n",
      "\n",
      " value is: ('Adam', '19', 'year 1', 'excellent')\n",
      "\n",
      " key is: ['name', 'age', 'grade', 'mark']\n",
      "\n",
      " item is: dict_items([('name', 'Adam'), ('age', '19'), ('grade', 'year 1'), ('mark', 'excellent')])\n",
      "name : Adam\n",
      "age : 19\n",
      "grade : year 1\n",
      "mark : excellent\n"
     ]
    },
    {
     "output_type": "execute_result",
     "data": {
      "text/plain": [
       "4"
      ]
     },
     "metadata": {},
     "execution_count": 65
    }
   ],
   "metadata": {}
  },
  {
   "cell_type": "code",
   "execution_count": null,
   "source": [
    "users = {'num1':{\"name\":\"admin\",\"password\":\"admin\",\"gender\":\"1\"},}\n",
    "\n",
    "list1 = []\n",
    "for name, info in users.items():\n",
    "    for key, value in info.items():\n",
    "        list1.append(value)\n",
    "print(\"user regiester:\", users)\n",
    "print(\"************用户创建***********\")\n",
    "print('register'.center(50,'*'))\n",
    "name = input('please input name:')\n",
    "if not name in list1[0]:\n",
    "    passwd = input('please input password:')\n",
    "    gender = input(\"please input gender: 0 for 'F', 1 for 'M': \")\n",
    "    users[\"num2\"] = {\"name\":name, \"password\":passwd,\"gender\":gender}\n",
    "    print(\"new user successfully registered\")\n",
    "    print(\"new user info:\", users)\n",
    "else :\n",
    "    print(\"this name has already on system\")\n"
   ],
   "outputs": [
    {
     "output_type": "stream",
     "name": "stdout",
     "text": [
      "user regiester: {'num1': {'name': 'admin', 'password': 'admin', 'gender': '1'}}\n",
      "************用户创建***********\n",
      "*********************register*********************\n",
      "new user successfully registered\n",
      "new user info: {'num1': {'name': 'admin', 'password': 'admin', 'gender': '1'}, 'num2': {'name': 'Angela', 'password': '33333', 'gender': '0'}}\n"
     ]
    }
   ],
   "metadata": {}
  },
  {
   "cell_type": "code",
   "execution_count": null,
   "source": [
    "import random\n",
    "list1 = []\n",
    "for i in range(8):\n",
    "    mynum = random.randint(100,1000)\n",
    "    list1.append(mynum)\n",
    "print(\"\\n random 8 numbers are:\", list1)\n",
    "list1.sort()\n",
    "print(\"from small number to big number: \", list1)\n",
    "list1.sort(reverse=True)\n",
    "print(\"from big to small number:\", list1)\n",
    "print(max(list1))\n",
    "print(min(list1))"
   ],
   "outputs": [
    {
     "output_type": "stream",
     "name": "stdout",
     "text": [
      "\n",
      " random 8 numbers are: [196, 564, 569, 307, 783, 455, 841, 981]\n",
      "from small number to big number:  [196, 307, 455, 564, 569, 783, 841, 981]\n",
      "from big to small number: [981, 841, 783, 569, 564, 455, 307, 196]\n",
      "981\n",
      "196\n"
     ]
    }
   ],
   "metadata": {}
  },
  {
   "cell_type": "code",
   "execution_count": null,
   "source": [
    "tup1 = (\"apple\",\"banna\",\"orange\",\"grapes\", \"pear\")\n",
    "print(\"my favourite fruit is:\", tup1)\n",
    "print(tup1[1])\n",
    "for i in tup1:\n",
    "    print(i)\n",
    "\n",
    "tup2 = (\"a\",\"6\",\"0\",\"a\",\"b\")\n",
    "tup3 = (\"aaa\",\"bbb\",\"kkk\",\"lll\")\n",
    "\n",
    "print(max(tup1))\n"
   ],
   "outputs": [
    {
     "output_type": "stream",
     "name": "stdout",
     "text": [
      "my favourite fruit is: ('apple', 'banna', 'orange', 'grapes', 'pear')\n",
      "banna\n",
      "apple\n",
      "banna\n",
      "orange\n",
      "grapes\n",
      "pear\n",
      "pear\n"
     ]
    }
   ],
   "metadata": {}
  },
  {
   "cell_type": "code",
   "execution_count": null,
   "source": [
    "import random\n",
    "print(random.choice(['red','orange','blue','purple','yellow']))\n",
    "print(random.choice('python!'))\n",
    "print(random.sample(['red','orange','blue','purple','yellow'],2))\n",
    "print(random.sample(('red','orange','blue','purple','yellow'),3))\n",
    "print(random.randint(1,100))\n",
    "print(random.uniform(1,100))\n",
    "print(random.randrange(100))\n",
    "print(random.randrange(1,99,2))\n",
    "print(random.randrange(10,99,10))"
   ],
   "outputs": [
    {
     "output_type": "stream",
     "name": "stdout",
     "text": [
      "purple\n",
      "!\n",
      "['red', 'yellow']\n",
      "['purple', 'yellow', 'orange']\n",
      "69\n",
      "13.557994891183936\n",
      "16\n",
      "63\n",
      "60\n"
     ]
    }
   ],
   "metadata": {}
  },
  {
   "cell_type": "code",
   "execution_count": null,
   "source": [
    "import math\n",
    "print(math.acos(0))\n",
    "print(math.asin(-1))\n",
    "print(math.degrees(10))\n"
   ],
   "outputs": [
    {
     "output_type": "stream",
     "name": "stdout",
     "text": [
      "1.5707963267948966\n",
      "-1.5707963267948966\n",
      "572.9577951308232\n"
     ]
    }
   ],
   "metadata": {}
  },
  {
   "cell_type": "code",
   "execution_count": null,
   "source": [
    "str = \"how are you?\"\n",
    "print(str.capitalize())\n",
    "str = \"www.baidu.com\"\n",
    "print(str.center(50,'-'))\n",
    "str=\"www.qq.com\"\n",
    "sub='w'\n",
    "print(str.count(sub))\n",
    "str=\"this is \\tstring example...wow!!!\"\n",
    "print(str)\n",
    "print(str.expandtabs())\n",
    "print(str.expandtabs(16))\n",
    "print()\n",
    "str=\"i like python!\"\n",
    "print(str.swapcase())\n",
    "\n",
    "\n"
   ],
   "outputs": [
    {
     "output_type": "stream",
     "name": "stdout",
     "text": [
      "How are you?\n",
      "------------------www.baidu.com-------------------\n",
      "3\n",
      "this is \tstring example...wow!!!\n",
      "this is         string example...wow!!!\n",
      "this is         string example...wow!!!\n",
      "\n",
      "I LIKE PYTHON!\n"
     ]
    }
   ],
   "metadata": {}
  },
  {
   "cell_type": "code",
   "execution_count": null,
   "source": [
    "def myprint():\n",
    "    print(\"Python, hello!\")\n",
    "\n",
    "def myarea(x1,x2):\n",
    "    return 1/2*x1*x2\n",
    "\n",
    "myprint()\n",
    "print()\n",
    "\n",
    "w = int(input(\"bottom\"))\n",
    "h = int(input(\"Please put yuor nam for verifitaion\"))\n",
    "\n",
    "print(myarea(w,h))"
   ],
   "outputs": [
    {
     "output_type": "stream",
     "name": "stdout",
     "text": [
      "Python, hello!\n",
      "\n",
      "100.0\n"
     ]
    }
   ],
   "metadata": {}
  },
  {
   "cell_type": "code",
   "execution_count": null,
   "source": [
    "def changeInt(a):\n",
    "    print(a)\n",
    "    a=10\n",
    "    return a\n",
    "b =2\n",
    "print()\n",
    "print(changeInt(b))\n",
    "print(b)"
   ],
   "outputs": [
    {
     "output_type": "stream",
     "name": "stdout",
     "text": [
      "\n",
      "2\n",
      "10\n",
      "2\n"
     ]
    }
   ],
   "metadata": {}
  },
  {
   "cell_type": "code",
   "execution_count": null,
   "source": [
    "def changeme(mylist1):\n",
    "    print(mylist1)\n",
    "    mylist1.append(['Q','black'])\n",
    "    print(mylist1)\n",
    "    return\n",
    "mylist = [\"red\",\"green\",\"blue\",\"yellow\"]\n",
    "print(mylist)\n",
    "print()\n",
    "changeme(mylist)\n",
    "print()\n",
    "print(mylist)"
   ],
   "outputs": [
    {
     "output_type": "stream",
     "name": "stdout",
     "text": [
      "['red', 'green', 'blue', 'yellow']\n",
      "\n",
      "['red', 'green', 'blue', 'yellow']\n",
      "['red', 'green', 'blue', 'yellow', ['Q', 'black']]\n",
      "\n",
      "['red', 'green', 'blue', 'yellow', ['Q', 'black']]\n"
     ]
    }
   ],
   "metadata": {}
  },
  {
   "cell_type": "code",
   "execution_count": null,
   "source": [
    "def printme(str):\n",
    "    print(str)\n",
    "    return\n",
    "printme(\"no ref\")\n"
   ],
   "outputs": [
    {
     "output_type": "stream",
     "name": "stdout",
     "text": [
      "no ref\n"
     ]
    },
    {
     "output_type": "error",
     "ename": "TypeError",
     "evalue": "printme() missing 1 required positional argument: 'str'",
     "traceback": [
      "\u001b[0;31m---------------------------------------------------------------------------\u001b[0m",
      "\u001b[0;31mTypeError\u001b[0m                                 Traceback (most recent call last)",
      "\u001b[0;32m/var/folders/hm/hbw_1wk11gq238fkgbkwtw1c0000gn/T/ipykernel_23143/1684545039.py\u001b[0m in \u001b[0;36m<module>\u001b[0;34m\u001b[0m\n\u001b[1;32m      3\u001b[0m     \u001b[0;32mreturn\u001b[0m\u001b[0;34m\u001b[0m\u001b[0;34m\u001b[0m\u001b[0m\n\u001b[1;32m      4\u001b[0m \u001b[0mprintme\u001b[0m\u001b[0;34m(\u001b[0m\u001b[0;34m\"no ref\"\u001b[0m\u001b[0;34m)\u001b[0m\u001b[0;34m\u001b[0m\u001b[0;34m\u001b[0m\u001b[0m\n\u001b[0;32m----> 5\u001b[0;31m \u001b[0mprintme\u001b[0m\u001b[0;34m(\u001b[0m\u001b[0;34m)\u001b[0m\u001b[0;34m\u001b[0m\u001b[0;34m\u001b[0m\u001b[0m\n\u001b[0m",
      "\u001b[0;31mTypeError\u001b[0m: printme() missing 1 required positional argument: 'str'"
     ]
    }
   ],
   "metadata": {}
  },
  {
   "cell_type": "code",
   "execution_count": null,
   "source": [
    "def printinfo( name,score, age=13, gender='female'):\n",
    "    print(\"name is:\",name)\n",
    "    print(\"age is:\",age)\n",
    "    print(\"score is:\",score)\n",
    "    print(\"gender  is\", gender)\n",
    "    return\n",
    "printinfo(age=12, name=\"li\", gender=\"m\", score=97)\n",
    "print()\n",
    "print(\"*\" * 30)\n",
    "\n",
    "printinfo(name=\"Jessie\", score=85)"
   ],
   "outputs": [
    {
     "output_type": "stream",
     "name": "stdout",
     "text": [
      "name is: li\n",
      "age is: 12\n",
      "score is: 97\n",
      "gender  is m\n",
      "\n",
      "******************************\n",
      "name is: Jessie\n",
      "age is: 13\n",
      "score is: 85\n",
      "gender  is female\n"
     ]
    }
   ],
   "metadata": {}
  },
  {
   "cell_type": "code",
   "execution_count": null,
   "source": [
    "def myn(n):\n",
    "    if n==0 or n==1:\n",
    "        result=1\n",
    "    else:\n",
    "        result= myn(n-1)*n\n",
    "    return result\n",
    "print(myn(8))"
   ],
   "outputs": [
    {
     "output_type": "stream",
     "name": "stdout",
     "text": [
      "40320\n"
     ]
    }
   ],
   "metadata": {}
  },
  {
   "cell_type": "code",
   "execution_count": null,
   "source": [
    "def myprime(n):\n",
    "    isprime=1\n",
    "    for i in range(2, int(n/2)+1):\n",
    "        if n % 1 == 0:\n",
    "            isprime =0\n",
    "            break\n",
    "    return\n",
    "    \n",
    "flag = 0\n",
    "n = int(input(\"input a integer:\"))\n",
    "for i in range (2, int(n/2)+1):\n",
    "    if myprime(i)==1:\n",
    "        if myprime(n-i) ==1:\n",
    "            print(n, \"=\", i, \"+\", n-i)\n",
    "            flat =1\n",
    "if flag ==0:\n",
    "    print(n)"
   ],
   "outputs": [
    {
     "output_type": "stream",
     "name": "stdout",
     "text": [
      "122\n"
     ]
    }
   ],
   "metadata": {}
  },
  {
   "cell_type": "code",
   "execution_count": null,
   "source": [
    "import random\n",
    "print(\"input 8888 numbers to stop\")\n",
    "ops = ['+','-','*','/']\n",
    "ans = \"\"\n",
    "i = 1\n",
    "while ans != \"8888\":\n",
    "    add1 = random.randint(10,20)\n",
    "    add2 = random.randint(10,20)\n",
    "    op = random.randint(0,3)\n",
    "    eq = str(add1)+ ops[op] + str(add2)\n",
    "    val = eval(eq)\n",
    "    print(\"no. %d: %s=\" %(i, eq))\n",
    "    ans = input(\"please answer:\")\n",
    "    if ans=='8888':\n",
    "        break\n",
    "    elif val == int(ans):\n",
    "        print(\"You are right\")\n",
    "    else:\n",
    "        print(\"your answer is wrong, correct answer is %d\" % val)\n",
    "    i = i+1\n",
    "    print()"
   ],
   "outputs": [
    {
     "output_type": "stream",
     "name": "stdout",
     "text": [
      "input 8888 numbers to finish\n",
      "no. 1: 20-15=\n",
      "You are right\n",
      "\n",
      "no. 2: 20*20=\n",
      "You are right\n",
      "\n",
      "no. 3: 12/10=\n",
      "your answer is wrong, correct answer is 1\n",
      "\n",
      "no. 4: 12-15=\n",
      "You are right\n",
      "\n",
      "no. 5: 10+14=\n",
      "You are right\n",
      "\n",
      "no. 6: 16*10=\n",
      "You are right\n",
      "\n",
      "no. 7: 11-11=\n",
      "You are right\n",
      "\n",
      "no. 8: 13+13=\n",
      "You are right\n",
      "\n",
      "no. 9: 10*16=\n",
      "You are right\n",
      "\n",
      "no. 10: 19-15=\n",
      "You are right\n",
      "\n",
      "no. 11: 11/15=\n",
      "your answer is wrong, correct answer is 0\n",
      "\n",
      "no. 12: 13-12=\n",
      "You are right\n",
      "\n",
      "no. 13: 19+12=\n"
     ]
    }
   ],
   "metadata": {}
  },
  {
   "cell_type": "code",
   "execution_count": null,
   "source": [
    "## age(n)= age(n-1)+2\n",
    "\n",
    "def age(n):\n",
    "    if n ==1:\n",
    "        x = 10\n",
    "    else:\n",
    "        x = age(n-1)+2\n",
    "    return x\n",
    "while True:\n",
    "    n = int(input(\"\\n input value n:\"))\n",
    "    if n ==0:\n",
    "        break\n",
    "    print(age(n))"
   ],
   "outputs": [
    {
     "output_type": "stream",
     "name": "stdout",
     "text": [
      "18\n",
      "20\n",
      "22\n",
      "24\n"
     ]
    }
   ],
   "metadata": {}
  },
  {
   "cell_type": "code",
   "execution_count": null,
   "source": [
    "class Canvas:\n",
    "    def draw_pic(self, shape):\n",
    "        print('\\n -- start drawing--')\n",
    "        shape.draw(self)\n",
    "class Rectangle:\n",
    "    def draw(self, canvas):\n",
    "        print('start drawing rectangle')\n",
    "class Triangle:\n",
    "    def draw (self, canvas):\n",
    "        print('draw triangle')\n",
    "class Circle:\n",
    "    def draw(self, canvas):\n",
    "        print()\n",
    "\n",
    "c = Canvas()\n",
    "c.draw_pic(Rectangle())\n",
    "    \n",
    "    "
   ],
   "outputs": [
    {
     "output_type": "stream",
     "name": "stdout",
     "text": [
      "\n",
      " -- start drawing--\n",
      "start drawing rectangle\n"
     ]
    }
   ],
   "metadata": {}
  },
  {
   "cell_type": "code",
   "execution_count": null,
   "source": [
    "def print_func(par):\n",
    "    print(par)\n",
    "    return\n",
    "def fib(n):\n",
    "    a,b = 0,1\n",
    "    while b<n:\n",
    "        print(b,end='')\n",
    "        a, b = b, a+b\n",
    "    print()"
   ],
   "outputs": [],
   "metadata": {}
  },
  {
   "cell_type": "code",
   "execution_count": null,
   "source": [
    "import os,glob,sys,re,math,random,datetime,zlib\n",
    "print(os.getcwd())\n",
    "print()\n",
    "print(glob.glob('*.py'))\n",
    "print(sys.argv)"
   ],
   "outputs": [
    {
     "output_type": "stream",
     "name": "stdout",
     "text": [
      "/Users/angela/Documents/code/selfLearning\n",
      "\n",
      "['e1.py', 'e2.py']\n",
      "['ipykernel_launcher', '--ip=127.0.0.1', '--stdin=9003', '--control=9001', '--hb=9000', '--Session.signature_scheme=\"hmac-sha256\"', '--Session.key=b\"aa5f50d2-4177-4be1-855e-f2be76b9a5a0\"', '--shell=9002', '--transport=\"tcp\"', '--iopub=9004', '--f=/var/folders/hm/hbw_1wk11gq238fkgbkwtw1c0000gn/T/tmp-7425jaAzVTo7u8w.json']\n"
     ]
    }
   ],
   "metadata": {}
  },
  {
   "cell_type": "code",
   "execution_count": null,
   "source": [
    "import time\n",
    "time.time()\n",
    "t = (2021,5,28,21,58,57,5,28,0)\n",
    "mysecs = time.mktime(t)\n",
    "print(mysecs)\n",
    "nowsecs = time.time()\n",
    "print(nowsecs)\n",
    "myc = nowsecs - mysecs\n",
    "print(myc)"
   ],
   "outputs": [
    {
     "output_type": "stream",
     "name": "stdout",
     "text": [
      "1622239137.0\n",
      "1625819912.069181\n",
      "3580775.0691809654\n"
     ]
    }
   ],
   "metadata": {}
  },
  {
   "cell_type": "code",
   "execution_count": null,
   "source": [
    "time.localtime(time.time())"
   ],
   "outputs": [
    {
     "output_type": "execute_result",
     "data": {
      "text/plain": [
       "time.struct_time(tm_year=2021, tm_mon=7, tm_mday=9, tm_hour=9, tm_min=40, tm_sec=11, tm_wday=4, tm_yday=190, tm_isdst=1)"
      ]
     },
     "metadata": {},
     "execution_count": 38
    }
   ],
   "metadata": {}
  },
  {
   "cell_type": "code",
   "execution_count": null,
   "source": [
    "import time\n",
    "n = time.time()\n",
    "tup1=time.localtime(n)\n",
    "myf=time.asctime(tup1)\n",
    "print(myf)\n",
    "print()\n",
    "\n",
    "tup2 = (2021,5,28,15,25,30,5,28,0)\n",
    "myt=time.asctime(tup2)\n",
    "print(myt)\n",
    "print()"
   ],
   "outputs": [
    {
     "output_type": "stream",
     "name": "stdout",
     "text": [
      "Fri Jul  9 09:43:26 2021\n",
      "\n",
      "Sat May 28 15:25:30 2021\n",
      "\n"
     ]
    }
   ],
   "metadata": {}
  },
  {
   "cell_type": "code",
   "execution_count": null,
   "source": [
    "import datetime\n",
    "a = datetime.date.today()\n",
    "b = datetime.date(2021,5,26)\n",
    "print(a)\n",
    "print(b)\n",
    "if a.__eq__(b):\n",
    "    print(\"a and b are the same date\")\n",
    "elif a.__gt__(b):\n",
    "    print(\"a is bigger than b\")\n",
    "    myc = a.__sub__(b).days\n",
    "    print(\"days that a is bigger than b:\",myc)\n",
    "else:\n",
    "    print(\"a is smaller than b\")\n",
    "    myc = b.__sub__(a).days\n",
    "    print(\"days that b is greater than a: \",myc)\n"
   ],
   "outputs": [
    {
     "output_type": "stream",
     "name": "stdout",
     "text": [
      "2021-07-09\n",
      "2021-05-26\n",
      "a is bigger than b\n",
      "days that a is bigger than b: 44\n"
     ]
    }
   ],
   "metadata": {}
  },
  {
   "cell_type": "code",
   "execution_count": null,
   "source": [
    "import calendar\n",
    "myyear1=int(input(\"write a number of year\"))\n",
    "if calendar.isleap(myyear1):\n",
    "    print(\"%d is leap year\" % myyear1)\n",
    "else:\n",
    "    print(\"%d is not leap year\" % myyear1)\n",
    "print()\n",
    "myyear2 = int(input(\"write another number\"))\n",
    "if myyear2 > myyear1:\n",
    "    mynum1 = calendar.leapdays(myyear1,myyear2)\n",
    "    print(\"%d to %d has %d number of leap year\" % (myyear1,myyear2,mynum1))\n",
    "else:\n",
    "    mynum2 = calendar.leapdays(myyear2,myyear1)\n",
    "    print(\"%d to %d year, there is %d number of leap year\" %(myyear2,myyear1,mynum2))"
   ],
   "outputs": [
    {
     "output_type": "stream",
     "name": "stdout",
     "text": [
      "2021 is not leap year\n",
      "\n",
      "2021 to 2025 has 1 number of leap year\n"
     ]
    }
   ],
   "metadata": {}
  },
  {
   "cell_type": "code",
   "execution_count": null,
   "source": [
    "import os\n",
    "txt = open(\"mytxt.txt\",\"w\")\n",
    "print(\"create a folder, name it mytxt.txt\")\n",
    "print(txt.name)\n",
    "print(\"\\n\", txt.mode)\n",
    "txt.write(\"\\nPython is a powerful language in the modern world\")\n",
    "for i in range(49):\n",
    "    txt.write(str(i)+\"\\t\")\n",
    "print(\"successfully written words in the documents\")\n",
    "txt.close()"
   ],
   "outputs": [
    {
     "output_type": "stream",
     "name": "stdout",
     "text": [
      "create a folder, name it mytxt.txt\n",
      "mytxt.txt\n",
      "\n",
      " w\n",
      "successfully written words in the documents\n"
     ]
    }
   ],
   "metadata": {}
  },
  {
   "cell_type": "code",
   "execution_count": null,
   "source": [
    "import os\n",
    "if os.path.exists(\"newmkdir1\"):\n",
    "    print(\"newmkdir1 is exist\")\n",
    "    if len(os.listdir(\"newmkdir1\"))==0:\n",
    "        print()\n",
    "        os.rmdir(\"newmkdir1\")\n",
    "        "
   ],
   "outputs": [],
   "metadata": {}
  },
  {
   "cell_type": "code",
   "execution_count": null,
   "source": [
    "import os\n",
    "import shutil\n",
    "if os.path.exists(\"excel1.xls\"):\n",
    "    print()\n",
    "    os.remove(\"excel1.xls\")\n",
    "    print()"
   ],
   "outputs": [
    {
     "output_type": "stream",
     "name": "stdout",
     "text": [
      "\n",
      "\n"
     ]
    }
   ],
   "metadata": {}
  },
  {
   "cell_type": "code",
   "execution_count": null,
   "source": [
    "import numpy\n",
    "import numpy as np\n",
    "print()\n",
    "a = np.array([1,2,3])\n",
    "print(a)\n",
    "b = np.array([1, 2, 3], dtype=complex)\n",
    "print(b)\n",
    "c = np.array([[1, 2], [3, 4]], dtype=complex)\n",
    "print(c)"
   ],
   "outputs": [
    {
     "output_type": "stream",
     "name": "stdout",
     "text": [
      "\n",
      "[1 2 3]\n",
      "[1.+0.j 2.+0.j 3.+0.j]\n",
      "[[1.+0.j 2.+0.j]\n",
      " [3.+0.j 4.+0.j]]\n"
     ]
    }
   ],
   "metadata": {}
  },
  {
   "cell_type": "code",
   "execution_count": null,
   "source": [
    "import numpy as np\n",
    "numpy1 = np.arange(1,120,4)\n",
    "print(numpy1)\n",
    "print()\n",
    "numpy2 = np.linspace(0,8,20)\n",
    "print(numpy2)"
   ],
   "outputs": [
    {
     "output_type": "stream",
     "name": "stdout",
     "text": [
      "[  1   5   9  13  17  21  25  29  33  37  41  45  49  53  57  61  65  69\n",
      "  73  77  81  85  89  93  97 101 105 109 113 117]\n",
      "\n",
      "[0.         0.42105263 0.84210526 1.26315789 1.68421053 2.10526316\n",
      " 2.52631579 2.94736842 3.36842105 3.78947368 4.21052632 4.63157895\n",
      " 5.05263158 5.47368421 5.89473684 6.31578947 6.73684211 7.15789474\n",
      " 7.57894737 8.        ]\n"
     ]
    }
   ],
   "metadata": {}
  },
  {
   "cell_type": "code",
   "execution_count": null,
   "source": [
    "import numpy as np \n",
    "numpy1 = np.array([[8,6,5,3.5],[1,4,7,9.6]])\n",
    "print(numpy1)\n",
    "print(numpy1[:,3])"
   ],
   "outputs": [
    {
     "output_type": "stream",
     "name": "stdout",
     "text": [
      "[[8.  6.  5.  3.5]\n",
      " [1.  4.  7.  9.6]]\n",
      "[3.5 9.6]\n"
     ]
    }
   ],
   "metadata": {}
  },
  {
   "cell_type": "code",
   "execution_count": null,
   "source": [
    "import numpy as np\n",
    "numpy1 = np.array([8,7,3,4])\n",
    "numpy2 = numpy1\n",
    "print(numpy2)\n",
    "numpy2[1] = -19.1\n",
    "print(numpy1)\n",
    "print()\n",
    "numpy3 = np.zeros(3)\n",
    "numpy4 = numpy3.copy()\n",
    "print(numpy4)\n",
    "numpy4[2] = 1\n",
    "print(numpy4)\n",
    "print(numpy3)\n",
    "print()"
   ],
   "outputs": [
    {
     "output_type": "stream",
     "name": "stdout",
     "text": [
      "[8 7 3 4]\n",
      "[  8 -19   3   4]\n",
      "\n",
      "[0. 0. 0.]\n",
      "[0. 0. 1.]\n",
      "[0. 0. 0.]\n",
      "\n"
     ]
    }
   ],
   "metadata": {}
  },
  {
   "cell_type": "code",
   "execution_count": null,
   "source": [
    "import numpy as np \n",
    "numpy1 = np.matrix([[2,3,6],[12,14,16]])\n",
    "print(numpy1)\n",
    "numpy2 = numpy1.T\n",
    "print(numpy2)\n",
    "print(numpy1*numpy2)\n",
    "numpy3 = numpy1.I\n",
    "print(\"矩阵的求逆：\")\n",
    "print(numpy3)"
   ],
   "outputs": [
    {
     "output_type": "stream",
     "name": "stdout",
     "text": [
      "[[ 2  3  6]\n",
      " [12 14 16]]\n",
      "[[ 2 12]\n",
      " [ 3 14]\n",
      " [ 6 16]]\n",
      "[[ 49 162]\n",
      " [162 596]]\n",
      "矩阵的求逆：\n",
      "[[-0.25405405  0.08918919]\n",
      " [-0.16216216  0.06756757]\n",
      " [ 0.33243243 -0.06351351]]\n"
     ]
    }
   ],
   "metadata": {}
  },
  {
   "cell_type": "code",
   "execution_count": null,
   "source": [],
   "outputs": [],
   "metadata": {}
  },
  {
   "cell_type": "code",
   "execution_count": null,
   "source": [
    "import pandas as pd\n",
    "import numpy as np\n",
    "data = np.array (['a','b','c','d'])\n",
    "s = pd.Series(data)\n",
    "print(\"显示索引和数据\")\n",
    "print(s)\n",
    "print()\n",
    "data = np.array (['a','b','c','d'])\n",
    "t = pd.Series(data,index=[100,101,102,103])\n",
    "print(\"显示索引和数据\")\n",
    "print(t)"
   ],
   "outputs": [
    {
     "output_type": "stream",
     "name": "stdout",
     "text": [
      "显示索引和数据\n",
      "0    a\n",
      "1    b\n",
      "2    c\n",
      "3    d\n",
      "dtype: object\n",
      "\n",
      "显示索引和数据\n",
      "100    a\n",
      "101    b\n",
      "102    c\n",
      "103    d\n",
      "dtype: object\n"
     ]
    }
   ],
   "metadata": {}
  },
  {
   "cell_type": "code",
   "execution_count": null,
   "source": [
    "import pandas as pd\n",
    "import numpy as np\n",
    "d = {\n",
    "    'names':pd.Series(['Li', 'Leo', 'Tao', 'Shuo', 'Jianli', 'Yuan']),\n",
    "    'gender':pd.Series(['m','f','m','m','m','f']),\n",
    "    'age':pd.Series([20,22,25,36,19,45]),\n",
    "    'salary':pd.Series([4200,3214,2345,2333,1232,4564])\n",
    "    }\n",
    " #create dataframe\n",
    "\n",
    "df = pd.DataFrame(d)\n",
    "print(df.groupby('gender'))\n",
    "print(\"group by gender\")\n",
    "print(df.groupby('gender').groups)\n",
    "mygender = df.groupby('gender')\n",
    "print(mygender['salary'].agg(np.mean))\n",
    "print(mygender['salary'].agg([np.sum, np.max, np.min, np.std]))"
   ],
   "outputs": [
    {
     "output_type": "stream",
     "name": "stdout",
     "text": [
      "<pandas.core.groupby.generic.DataFrameGroupBy object at 0x11cfa8250>\n",
      "group by gender\n",
      "{'f': [1, 5], 'm': [0, 2, 3, 4]}\n",
      "gender\n",
      "f    3889.0\n",
      "m    2527.5\n",
      "Name: salary, dtype: float64\n",
      "          sum  amax  amin          std\n",
      "gender                                \n",
      "f        7778  4564  3214   954.594155\n",
      "m       10110  4200  1232  1231.085294\n"
     ]
    }
   ],
   "metadata": {}
  },
  {
   "cell_type": "code",
   "execution_count": null,
   "source": [
    "from matplotlib import pyplot as plt\n",
    "import numpy as np\n",
    "x =np.arange(1,30)\n",
    "y = 6*x+5\n",
    "plt.figure()\n",
    "plt.plot(x,y)\n",
    "plt.show()"
   ],
   "outputs": [
    {
     "output_type": "display_data",
     "data": {
      "text/plain": [
       "<Figure size 432x288 with 1 Axes>"
      ],
      "image/png": "[encoded data removed]"
     },
     "metadata": {
      "needs_background": "light"
     }
    }
   ],
   "metadata": {}
  },
  {
   "cell_type": "code",
   "execution_count": null,
   "source": [
    "import numpy as np\n",
    "from matplotlib import pyplot as plt\n",
    "x = np.arange(1,30)\n",
    "y = 2 * x + 13\n",
    "a = np.arange(1,16)\n",
    "b = 2 *a - 8\n",
    "plt.figure(figsize=(8,2), dpi=120, facecolor='pink')\n",
    "plt.plot(x,y, \"^c\", a,b,\"ob\")\n",
    "plt.show()\n",
    "\n"
   ],
   "outputs": [
    {
     "output_type": "display_data",
     "data": {
      "text/plain": [
       "<Figure size 960x240 with 1 Axes>"
      ],
      "image/png": "[encoded data removed]"
     },
     "metadata": {}
    }
   ],
   "metadata": {}
  },
  {
   "cell_type": "code",
   "execution_count": null,
   "source": [
    "import numpy as np\n",
    "import matplotlib.pyplot as plt\n",
    "x = np.arange(0, 3 * np.pi, 0.1)\n",
    "y_sin = np.sin(x)\n",
    "plt.subplot(2,2,1)\n",
    "plt.plot(x,y_sin, 'ob')\n",
    "y_cos = np.cos(x)\n",
    "plt.subplot(2,2,2)\n",
    "plt.plot(x, y_cos, '^r')\n",
    "y_tan = np.tan(x)\n",
    "plt.subplot(223)\n",
    "plt.plot(x, y_tan, ':r')\n",
    "plt.show()"
   ],
   "outputs": [
    {
     "output_type": "display_data",
     "data": {
      "text/plain": [
       "<Figure size 432x288 with 3 Axes>"
      ],
      "image/png": "[encoded data removed]"
     },
     "metadata": {
      "needs_background": "light"
     }
    }
   ],
   "metadata": {}
  },
  {
   "cell_type": "code",
   "execution_count": null,
   "source": [
    "import numpy as np\n",
    "import matplotlib.pyplot as plt\n",
    "fig = plt.figure()\n",
    "x = [1,2,3,4,5,6,7]\n",
    "y = [1,3,4,2,5,8,6]\n",
    "left, bottom, width, height = 0.1, 0.1, 0.8, 0.8\n",
    "ax1 = fig.add_axes([left, bottom, width, height])\n",
    "ax1.plot(x,y,'r')\n",
    "ax1.set_title('area1')\n",
    "left, bottom, width, height = 0.2, 0.6, 0.25, 0.25\n",
    "ax2 = fig.add_axes([left, bottom, width, height])\n",
    "ax2.plot(x,y,'b')\n",
    "ax2.set_title('area2')\n",
    "plt.show()"
   ],
   "outputs": [
    {
     "output_type": "display_data",
     "data": {
      "text/plain": [
       "<Figure size 432x288 with 2 Axes>"
      ],
      "image/png": "[encoded data removed]"
     },
     "metadata": {
      "needs_background": "light"
     }
    }
   ],
   "metadata": {}
  },
  {
   "cell_type": "code",
   "execution_count": null,
   "source": [
    "import matplotlib.pyplot as plt\n",
    "GDP = [18591,112181,49386,34666]\n",
    "plt.rcParams['font.font.sans-serif'] = ['Microsoft YaHei']\n",
    "plt.bar(range(4))"
   ],
   "outputs": [],
   "metadata": {}
  },
  {
   "cell_type": "code",
   "execution_count": null,
   "source": [
    "import pandas as pd\n",
    "import numpy as np\n",
    "df = pd.DataFrame(\n",
    "    [(1,2),(0,3),(2,0),(1,1)],\n",
    "    columns= ['dogs','cats']\n",
    ")\n",
    "df.cov()\n",
    "np.random.seed(42)\n",
    "df = pd.DataFrame(\n",
    "    np.random.randn(1000,5),\n",
    "    columns= ['a','b','c','d','e']\n",
    ")\n",
    "df.cov()\n",
    "\n",
    "np.random.seed(42)\n",
    "df = pd.DataFrame(\n",
    "    np.random.randn(20,3),\n",
    "    columns= ['a','b','c'])\n",
    "df.loc[df.index[:5],'a'] = np.nan\n",
    "df.loc[df.index[5:10],'b'] = np.nan\n",
    "df.cov(min_periods=12)"
   ],
   "outputs": [
    {
     "output_type": "execute_result",
     "data": {
      "text/plain": [
       "          a         b         c\n",
       "a  0.316741       NaN -0.150812\n",
       "b       NaN  1.248003  0.191417\n",
       "c -0.150812  0.191417  0.895202"
      ],
      "text/html": [
       "<div>\n",
       "<style scoped>\n",
       "    .dataframe tbody tr th:only-of-type {\n",
       "        vertical-align: middle;\n",
       "    }\n",
       "\n",
       "    .dataframe tbody tr th {\n",
       "        vertical-align: top;\n",
       "    }\n",
       "\n",
       "    .dataframe thead th {\n",
       "        text-align: right;\n",
       "    }\n",
       "</style>\n",
       "<table border=\"1\" class=\"dataframe\">\n",
       "  <thead>\n",
       "    <tr style=\"text-align: right;\">\n",
       "      <th></th>\n",
       "      <th>a</th>\n",
       "      <th>b</th>\n",
       "      <th>c</th>\n",
       "    </tr>\n",
       "  </thead>\n",
       "  <tbody>\n",
       "    <tr>\n",
       "      <th>a</th>\n",
       "      <td>0.316741</td>\n",
       "      <td>NaN</td>\n",
       "      <td>-0.150812</td>\n",
       "    </tr>\n",
       "    <tr>\n",
       "      <th>b</th>\n",
       "      <td>NaN</td>\n",
       "      <td>1.248003</td>\n",
       "      <td>0.191417</td>\n",
       "    </tr>\n",
       "    <tr>\n",
       "      <th>c</th>\n",
       "      <td>-0.150812</td>\n",
       "      <td>0.191417</td>\n",
       "      <td>0.895202</td>\n",
       "    </tr>\n",
       "  </tbody>\n",
       "</table>\n",
       "</div>"
      ]
     },
     "metadata": {},
     "execution_count": 4
    }
   ],
   "metadata": {}
  },
  {
   "cell_type": "code",
   "execution_count": null,
   "source": [
    "import math\n",
    "import numpy as np\n",
    "import pandas as pd\n",
    "\n",
    "a= math.pow(0,4)\n",
    "b= math.pow(1,12)\n",
    "c= pow(2,8)\n",
    "d = pow(3,2)\n",
    "e = pow(4,1)\n",
    "f = pow(5,2)\n",
    "g = pow(6,1)\n",
    "i = (a,b,c,d,e,f,g)\n",
    "print(i)\n",
    "np.std(i)\n",
    "\n"
   ],
   "outputs": [
    {
     "output_type": "stream",
     "name": "stdout",
     "text": [
      "(0.0, 1.0, 256, 9, 4, 25, 6)\n"
     ]
    },
    {
     "output_type": "execute_result",
     "data": {
      "text/plain": [
       "87.30243001036274"
      ]
     },
     "metadata": {},
     "execution_count": 116
    }
   ],
   "metadata": {}
  },
  {
   "cell_type": "code",
   "execution_count": null,
   "source": [
    "import calendar\n",
    "cal = calendar.month(2021,7)\n",
    "print(cal)"
   ],
   "outputs": [
    {
     "output_type": "stream",
     "name": "stdout",
     "text": [
      "     July 2021\n",
      "Mo Tu We Th Fr Sa Su\n",
      "          1  2  3  4\n",
      " 5  6  7  8  9 10 11\n",
      "12 13 14 15 16 17 18\n",
      "19 20 21 22 23 24 25\n",
      "26 27 28 29 30 31\n",
      "\n"
     ]
    }
   ],
   "metadata": {}
  },
  {
   "cell_type": "code",
   "execution_count": 4,
   "source": [
    "import pandas as pd\n",
    "df = pd.DataFrame(\n",
    "    [(1,2),(0,3),(2,0),(1,1)],\n",
    "    columns=['dogs', 'cats']\n",
    "    )\n",
    "df.cov()\n",
    "df.std()"
   ],
   "outputs": [
    {
     "output_type": "error",
     "ename": "ModuleNotFoundError",
     "evalue": "No module named 'pandas'",
     "traceback": [
      "\u001b[0;31m---------------------------------------------------------------------------\u001b[0m",
      "\u001b[0;31mModuleNotFoundError\u001b[0m                       Traceback (most recent call last)",
      "\u001b[0;32m/var/folders/hm/hbw_1wk11gq238fkgbkwtw1c0000gn/T/ipykernel_1258/3913867373.py\u001b[0m in \u001b[0;36m<module>\u001b[0;34m\u001b[0m\n\u001b[0;32m----> 1\u001b[0;31m \u001b[0;32mimport\u001b[0m \u001b[0mpandas\u001b[0m \u001b[0;32mas\u001b[0m \u001b[0mpd\u001b[0m\u001b[0;34m\u001b[0m\u001b[0;34m\u001b[0m\u001b[0m\n\u001b[0m\u001b[1;32m      2\u001b[0m df = pd.DataFrame(\n\u001b[1;32m      3\u001b[0m     \u001b[0;34m[\u001b[0m\u001b[0;34m(\u001b[0m\u001b[0;36m1\u001b[0m\u001b[0;34m,\u001b[0m\u001b[0;36m2\u001b[0m\u001b[0;34m)\u001b[0m\u001b[0;34m,\u001b[0m\u001b[0;34m(\u001b[0m\u001b[0;36m0\u001b[0m\u001b[0;34m,\u001b[0m\u001b[0;36m3\u001b[0m\u001b[0;34m)\u001b[0m\u001b[0;34m,\u001b[0m\u001b[0;34m(\u001b[0m\u001b[0;36m2\u001b[0m\u001b[0;34m,\u001b[0m\u001b[0;36m0\u001b[0m\u001b[0;34m)\u001b[0m\u001b[0;34m,\u001b[0m\u001b[0;34m(\u001b[0m\u001b[0;36m1\u001b[0m\u001b[0;34m,\u001b[0m\u001b[0;36m1\u001b[0m\u001b[0;34m)\u001b[0m\u001b[0;34m]\u001b[0m\u001b[0;34m,\u001b[0m\u001b[0;34m\u001b[0m\u001b[0;34m\u001b[0m\u001b[0m\n\u001b[1;32m      4\u001b[0m     \u001b[0mcolumns\u001b[0m\u001b[0;34m=\u001b[0m\u001b[0;34m[\u001b[0m\u001b[0;34m'dogs'\u001b[0m\u001b[0;34m,\u001b[0m \u001b[0;34m'cats'\u001b[0m\u001b[0;34m]\u001b[0m\u001b[0;34m\u001b[0m\u001b[0;34m\u001b[0m\u001b[0m\n\u001b[1;32m      5\u001b[0m     )\n",
      "\u001b[0;31mModuleNotFoundError\u001b[0m: No module named 'pandas'"
     ]
    }
   ],
   "metadata": {}
  },
  {
   "cell_type": "code",
   "execution_count": null,
   "source": [
    "import http.client\n",
    "\n",
    "conn = http.client.HTTPSConnection(\"api.coincap.io\")\n",
    "payload = ''\n",
    "headers = {}\n",
    "conn.request(\"GET\", \"/v2/assets/bitcoin/history?interval=d1\", payload, headers)\n",
    "res = conn.getresponse()\n",
    "data = res.read()\n",
    "print(data.decode(\"utf-8\"))\n"
   ],
   "outputs": [],
   "metadata": {}
  },
  {
   "cell_type": "code",
   "execution_count": 3,
   "source": [
    "echo \"# standard\" >> README.md\n",
    "git init\n",
    "git add README.md\n",
    "git commit -m \"first commit\"\n",
    "git branch -M main\n",
    "git remote add origin https://github.com/xieris/standard.git\n",
    "git push -u origin main"
   ],
   "outputs": [
    {
     "output_type": "error",
     "ename": "SyntaxError",
     "evalue": "invalid syntax (161571917.py, line 1)",
     "traceback": [
      "\u001b[0;36m  File \u001b[0;32m\"/var/folders/hm/hbw_1wk11gq238fkgbkwtw1c0000gn/T/ipykernel_1258/161571917.py\"\u001b[0;36m, line \u001b[0;32m1\u001b[0m\n\u001b[0;31m    echo \"# standard\" >> README.md\u001b[0m\n\u001b[0m         ^\u001b[0m\n\u001b[0;31mSyntaxError\u001b[0m\u001b[0;31m:\u001b[0m invalid syntax\n"
     ]
    }
   ],
   "metadata": {}
  },
  {
   "cell_type": "code",
   "execution_count": 24,
   "source": [
    "import requests\n",
    "r = requests.get('https://httpbin.org/get')\n",
    "print(r.url)"
   ],
   "outputs": [
    {
     "output_type": "stream",
     "name": "stdout",
     "text": [
      "https://httpbin.org/get\n"
     ]
    }
   ],
   "metadata": {}
  },
  {
   "cell_type": "code",
   "execution_count": 154,
   "source": [
    "import requests\n",
    "import json\n",
    "import random\n",
    "\n",
    "# payload = {'period':'1day', 'size': '3', 'symbol': 'btcusdt'}\n",
    "r = requests.get('https://api.huobi.pro/market/history/kline?period=1day&size=3&symbol=btcusdt', data= payload)\n",
    "r = r.json()\n",
    "# data\n",
    "# {'id': 1499184000,\n",
    "#'amount', 37593.0266,\n",
    "#'count', 0,\n",
    "#'open', 1935.2000,\n",
    "#'close', 1879.0000,\n",
    "#'low', 1856.0000,\n",
    "#'high', 1940.0000,\n",
    "#'vol', 71031537.97866500 },\n",
    "\n",
    "for data in r['data']:\n",
    "    print(data['close'])\n",
    "\n"
   ],
   "outputs": [
    {
     "output_type": "stream",
     "name": "stdout",
     "text": [
      "39512.67\n",
      "39948.12\n",
      "39685.9\n"
     ]
    }
   ],
   "metadata": {}
  },
  {
   "cell_type": "code",
   "execution_count": 148,
   "source": [
    "import math\n",
    "import numpy as np\n",
    "\n",
    "P = int(input('10000'))\n",
    "n = int(input('1'))\n",
    "r = float(input('9'))\n",
    "y = int(input('30'))\n",
    "\n",
    "FV = P * (((1 + ((r/100.0)/n)) ** (n*y)))\n",
    "\n",
    "print (\"The final amount after\", y, \"years is\", FV)"
   ],
   "outputs": [
    {
     "output_type": "error",
     "ename": "ValueError",
     "evalue": "invalid literal for int() with base 10: ''",
     "traceback": [
      "\u001b[0;31m---------------------------------------------------------------------------\u001b[0m",
      "\u001b[0;31mValueError\u001b[0m                                Traceback (most recent call last)",
      "\u001b[0;32m/var/folders/hm/hbw_1wk11gq238fkgbkwtw1c0000gn/T/ipykernel_1258/4141627440.py\u001b[0m in \u001b[0;36m<module>\u001b[0;34m\u001b[0m\n\u001b[1;32m      2\u001b[0m \u001b[0;32mimport\u001b[0m \u001b[0mnumpy\u001b[0m \u001b[0;32mas\u001b[0m \u001b[0mnp\u001b[0m\u001b[0;34m\u001b[0m\u001b[0;34m\u001b[0m\u001b[0m\n\u001b[1;32m      3\u001b[0m \u001b[0;34m\u001b[0m\u001b[0m\n\u001b[0;32m----> 4\u001b[0;31m \u001b[0mP\u001b[0m \u001b[0;34m=\u001b[0m \u001b[0mint\u001b[0m\u001b[0;34m(\u001b[0m\u001b[0minput\u001b[0m\u001b[0;34m(\u001b[0m\u001b[0;34m'10000'\u001b[0m\u001b[0;34m)\u001b[0m\u001b[0;34m)\u001b[0m\u001b[0;34m\u001b[0m\u001b[0;34m\u001b[0m\u001b[0m\n\u001b[0m\u001b[1;32m      5\u001b[0m \u001b[0mn\u001b[0m \u001b[0;34m=\u001b[0m \u001b[0mint\u001b[0m\u001b[0;34m(\u001b[0m\u001b[0minput\u001b[0m\u001b[0;34m(\u001b[0m\u001b[0;34m'1'\u001b[0m\u001b[0;34m)\u001b[0m\u001b[0;34m)\u001b[0m\u001b[0;34m\u001b[0m\u001b[0;34m\u001b[0m\u001b[0m\n\u001b[1;32m      6\u001b[0m \u001b[0mr\u001b[0m \u001b[0;34m=\u001b[0m \u001b[0mfloat\u001b[0m\u001b[0;34m(\u001b[0m\u001b[0minput\u001b[0m\u001b[0;34m(\u001b[0m\u001b[0;34m'9'\u001b[0m\u001b[0;34m)\u001b[0m\u001b[0;34m)\u001b[0m\u001b[0;34m\u001b[0m\u001b[0;34m\u001b[0m\u001b[0m\n",
      "\u001b[0;31mValueError\u001b[0m: invalid literal for int() with base 10: ''"
     ]
    }
   ],
   "metadata": {}
  },
  {
   "cell_type": "code",
   "execution_count": null,
   "source": [],
   "outputs": [],
   "metadata": {}
  }
 ],
 "metadata": {
  "interpreter": {
   "hash": "7763fa5d835ab7e277b0e936c7a684d0f61199003cd516953d205c2ee3c3a78f"
  },
  "kernelspec": {
   "name": "python3",
   "display_name": "Python 3.9.6 64-bit"
  },
  "language_info": {
   "codemirror_mode": {
    "name": "ipython",
    "version": 3
   },
   "file_extension": ".py",
   "mimetype": "text/x-python",
   "name": "python",
   "nbconvert_exporter": "python",
   "pygments_lexer": "ipython3",
   "version": "3.9.6"
  },
  "orig_nbformat": 2
 },
 "nbformat": 4,
 "nbformat_minor": 2
}